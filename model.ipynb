{
 "cells": [
  {
   "cell_type": "code",
   "execution_count": 1,
   "id": "ec20ee1a",
   "metadata": {},
   "outputs": [],
   "source": [
    "import pandas as pd\n",
    "import numpy as np\n",
    "import matplotlib as plt\n",
    "from pathlib import Path\n",
    "import sklearn as skl\n",
    "from sklearn.cluster import KMeans\n",
    "from sklearn.decomposition import PCA\n",
    "from sklearn.preprocessing import StandardScaler\n",
    "from sklearn.model_selection import train_test_split\n",
    "from sklearn.linear_model import LinearRegression\n",
    "from sklearn.metrics import confusion_matrix, accuracy_score, classification_report\n",
    "import tensorflow as tf"
   ]
  },
  {
   "cell_type": "code",
   "execution_count": 2,
   "id": "dd510b29",
   "metadata": {},
   "outputs": [
    {
     "name": "stdout",
     "output_type": "stream",
     "text": [
      "<class 'pandas.core.frame.DataFrame'>\n",
      "RangeIndex: 20043 entries, 0 to 20042\n",
      "Data columns (total 4 columns):\n",
      " #   Column      Non-Null Count  Dtype  \n",
      "---  ------      --------------  -----  \n",
      " 0   LAT         20043 non-null  float64\n",
      " 1   LON         20043 non-null  float64\n",
      " 2   WELL_DEPTH  20043 non-null  float64\n",
      " 3   AS_CONC     20043 non-null  float64\n",
      "dtypes: float64(4)\n",
      "memory usage: 626.5 KB\n"
     ]
    }
   ],
   "source": [
    "df = pd.read_csv('Resources/features_and_target.csv')\n",
    "df.info()"
   ]
  },
  {
   "cell_type": "code",
   "execution_count": 3,
   "id": "c398ffc4",
   "metadata": {},
   "outputs": [],
   "source": [
    "X = df[['WELL_DEPTH', 'LAT', 'LON']]\n",
    "X = X.to_numpy()\n",
    "y = df[['AS_CONC']]\n",
    "y = np.ravel(y)"
   ]
  },
  {
   "cell_type": "code",
   "execution_count": 4,
   "id": "017db2cf",
   "metadata": {},
   "outputs": [
    {
     "data": {
      "text/plain": [
       "<matplotlib.axes._subplots.AxesSubplot at 0x17e9d3e7048>"
      ]
     },
     "execution_count": 4,
     "metadata": {},
     "output_type": "execute_result"
    },
    {
     "data": {
      "image/png": "[encoded data removed]",
      "text/plain": [
       "<Figure size 432x288 with 2 Axes>"
      ]
     },
     "metadata": {
      "needs_background": "light"
     },
     "output_type": "display_data"
    }
   ],
   "source": [
    "df.plot.scatter(x=\"LON\", y=\"LAT\", c=\"AS_CONC\", colormap=\"winter\")"
   ]
  },
  {
   "cell_type": "code",
   "execution_count": 5,
   "id": "667dc843",
   "metadata": {},
   "outputs": [
    {
     "data": {
      "text/plain": [
       "array([[ 100.     ,   18.35361,  -64.75528],\n",
       "       [  60.     ,   18.3525 ,  -64.7675 ],\n",
       "       [   0.     ,   18.14972,  -65.79472],\n",
       "       ...,\n",
       "       [  33.     ,   59.05028, -158.56889],\n",
       "       [  42.     ,   59.05667, -158.57111],\n",
       "       [  57.     ,   59.26889, -158.63194]])"
      ]
     },
     "execution_count": 5,
     "metadata": {},
     "output_type": "execute_result"
    }
   ],
   "source": [
    "X"
   ]
  },
  {
   "cell_type": "code",
   "execution_count": 6,
   "id": "2fd38991",
   "metadata": {},
   "outputs": [],
   "source": [
    "X_train, X_test, y_train, y_test = train_test_split(X, y, random_state=42)"
   ]
  },
  {
   "cell_type": "code",
   "execution_count": 7,
   "id": "ff6d0b84",
   "metadata": {},
   "outputs": [],
   "source": [
    "# Create scaler instance\n",
    "X_scaler = skl.preprocessing.StandardScaler()\n",
    "\n",
    "# Fit the scaler\n",
    "X_scaler.fit(X_train)\n",
    "\n",
    "# Scale the data\n",
    "X_train_scaled = X_scaler.transform(X_train)\n",
    "X_test_scaled = X_scaler.transform(X_test)"
   ]
  },
  {
   "cell_type": "code",
   "execution_count": 8,
   "id": "ee7046a0",
   "metadata": {},
   "outputs": [],
   "source": [
    "from sklearn.ensemble import BaggingRegressor\n",
    "model = BaggingRegressor(n_estimators=1)"
   ]
  },
  {
   "cell_type": "code",
   "execution_count": 9,
   "id": "2975b9b0",
   "metadata": {},
   "outputs": [],
   "source": [
    "model = model.fit(X_train, y_train)"
   ]
  },
  {
   "cell_type": "code",
   "execution_count": 10,
   "id": "d1610216",
   "metadata": {},
   "outputs": [],
   "source": [
    "predictions = model.predict(X_test)"
   ]
  },
  {
   "cell_type": "code",
   "execution_count": 11,
   "id": "3588b598",
   "metadata": {},
   "outputs": [],
   "source": [
    "# predictions_df = y_test\n",
    "# predictions_df['predictions'] = predictions\n",
    "# predictions_df"
   ]
  },
  {
   "cell_type": "code",
   "execution_count": 12,
   "id": "329b47c0",
   "metadata": {},
   "outputs": [
    {
     "data": {
      "text/plain": [
       "0.446817"
      ]
     },
     "execution_count": 12,
     "metadata": {},
     "output_type": "execute_result"
    }
   ],
   "source": [
    "from tensorflow.keras.metrics import Accuracy\n",
    "accuracy = Accuracy()\n",
    "\n",
    "accuracy.update_state(y_true=y_test, y_pred=predictions)\n",
    "accuracy.result().numpy()"
   ]
  },
  {
   "cell_type": "code",
   "execution_count": 13,
   "id": "1797766c",
   "metadata": {},
   "outputs": [
    {
     "data": {
      "text/plain": [
       "array([[ 150.     ,   47.87305, -122.11361],\n",
       "       [  52.     ,   29.60639,  -82.30334],\n",
       "       [   0.     ,   41.14444, -104.87195],\n",
       "       ...,\n",
       "       [ 110.     ,   39.0075 , -112.44444],\n",
       "       [   0.     ,   35.16222,  -91.08667],\n",
       "       [ 150.     ,   40.36361,  -74.93611]])"
      ]
     },
     "execution_count": 13,
     "metadata": {},
     "output_type": "execute_result"
    }
   ],
   "source": [
    "X_test"
   ]
  },
  {
   "cell_type": "code",
   "execution_count": 14,
   "id": "1773c49c",
   "metadata": {},
   "outputs": [
    {
     "data": {
      "text/plain": [
       "array([8.31])"
      ]
     },
     "execution_count": 14,
     "metadata": {},
     "output_type": "execute_result"
    }
   ],
   "source": [
    "davis = [[10, 38.54, -121.75]]\n",
    "model.predict(davis)"
   ]
  },
  {
   "cell_type": "code",
   "execution_count": 15,
   "id": "eee5026e",
   "metadata": {},
   "outputs": [
    {
     "data": {
      "text/plain": [
       "array([13.,  1.,  2., ...,  2., 16.,  8.])"
      ]
     },
     "execution_count": 15,
     "metadata": {},
     "output_type": "execute_result"
    }
   ],
   "source": [
    "predictions"
   ]
  },
  {
   "cell_type": "code",
   "execution_count": 16,
   "id": "27a254cf",
   "metadata": {},
   "outputs": [
    {
     "data": {
      "text/plain": [
       "array([  4., 110.,  11., ...,   1.,   1.,   2.])"
      ]
     },
     "execution_count": 16,
     "metadata": {},
     "output_type": "execute_result"
    }
   ],
   "source": [
    "y_train"
   ]
  },
  {
   "cell_type": "code",
   "execution_count": null,
   "id": "7c939a6d",
   "metadata": {},
   "outputs": [],
   "source": []
  },
  {
   "cell_type": "code",
   "execution_count": null,
   "id": "4b6246aa",
   "metadata": {},
   "outputs": [],
   "source": []
  }
 ],
 "metadata": {
  "kernelspec": {
   "display_name": "Python 3 (ipykernel)",
   "language": "python",
   "name": "python3"
  },
  "language_info": {
   "codemirror_mode": {
    "name": "ipython",
    "version": 3
   },
   "file_extension": ".py",
   "mimetype": "text/x-python",
   "name": "python",
   "nbconvert_exporter": "python",
   "pygments_lexer": "ipython3",
   "version": "3.7.7"
  }
 },
 "nbformat": 4,
 "nbformat_minor": 5
}
