{
 "cells": [
  {
   "cell_type": "code",
   "execution_count": null,
   "id": "661d53c0",
   "metadata": {},
   "outputs": [],
   "source": [
    "import pandas as pd\n",
    "import numpy as np\n",
    "import matplotlib as plt\n",
    "from pathlib import Path\n",
    "import sklearn as skl\n",
    "from sklearn.cluster import KMeans\n",
    "from sklearn.decomposition import PCA\n",
    "from sklearn.preprocessing import StandardScaler\n",
    "from sklearn.model_selection import train_test_split\n",
    "from sklearn.linear_model import LinearRegression\n",
    "from sklearn.metrics import confusion_matrix, accuracy_score, classification_report\n",
    "import tensorflow as tf"
   ]
  },
  {
   "cell_type": "code",
   "execution_count": null,
   "id": "4047ca3a",
   "metadata": {},
   "outputs": [],
   "source": [
    "df = pd.read_csv('Resources/features_and_target.csv')\n",
    "df.info()"
   ]
  },
  {
   "cell_type": "code",
   "execution_count": null,
   "id": "005f2a97",
   "metadata": {},
   "outputs": [],
   "source": [
    "X = df[['WELL_DEPTH', 'LAT', 'LON']]\n",
    "X = X.to_numpy()\n",
    "y = df[['AS_CONC']]\n",
    "y = np.ravel(y)"
   ]
  },
  {
   "cell_type": "code",
   "execution_count": null,
   "id": "998a335b",
   "metadata": {},
   "outputs": [],
   "source": [
    "df.plot.scatter(x=\"LON\", y=\"LAT\", c=\"AS_CONC\", colormap=\"winter\")"
   ]
  },
  {
   "cell_type": "code",
   "execution_count": null,
   "id": "4c0cc66d",
   "metadata": {},
   "outputs": [],
   "source": [
    "X"
   ]
  },
  {
   "cell_type": "code",
   "execution_count": null,
   "id": "a43da7de",
   "metadata": {},
   "outputs": [],
   "source": [
    "X_train, X_test, y_train, y_test = train_test_split(X, y, random_state=40)"
   ]
  },
  {
   "cell_type": "code",
   "execution_count": null,
   "id": "caacc1c2",
   "metadata": {},
   "outputs": [],
   "source": [
    "# Create scaler instance\n",
    "X_scaler = skl.preprocessing.StandardScaler()\n",
    "\n",
    "# Fit the scaler\n",
    "X_scaler.fit(X_train)\n",
    "\n",
    "# Scale the data\n",
    "X_train_scaled = X_scaler.transform(X_train)\n",
    "X_test_scaled = X_scaler.transform(X_test)"
   ]
  },
  {
   "cell_type": "code",
   "execution_count": null,
   "id": "0044a773",
   "metadata": {},
   "outputs": [],
   "source": [
    "from sklearn.ensemble import BaggingRegressor\n",
    "model = BaggingRegressor(n_estimators=1)"
   ]
  },
  {
   "cell_type": "code",
   "execution_count": null,
   "id": "a2ed02f8",
   "metadata": {},
   "outputs": [],
   "source": [
    "# model = tf.keras.models.Sequential()"
   ]
  },
  {
   "cell_type": "code",
   "execution_count": null,
   "id": "532797fe",
   "metadata": {},
   "outputs": [],
   "source": [
    "# model.add(tf.keras.layers.Dense(units=12, activation=\"relu\", input_dim=2))\n",
    "# model.add(tf.keras.layers.Dense(units=12, activation=\"relu\", input_dim=2))\n",
    "# model.add(tf.keras.layers.Dense(units=12, activation=\"relu\", input_dim=2))\n",
    "# model.add(tf.keras.layers.Dense(units=12, activation=\"relu\", input_dim=2))\n",
    "# model.add(tf.keras.layers.Dense(units=12, activation=\"relu\", input_dim=2))"
   ]
  },
  {
   "cell_type": "code",
   "execution_count": null,
   "id": "28f54237",
   "metadata": {},
   "outputs": [],
   "source": [
    "# model.add(tf.keras.layers.Dense(units=1, activation=\"sigmoid\"))"
   ]
  },
  {
   "cell_type": "code",
   "execution_count": null,
   "id": "62389b57",
   "metadata": {},
   "outputs": [],
   "source": [
    "# model.summary()"
   ]
  },
  {
   "cell_type": "code",
   "execution_count": null,
   "id": "c1c09a97",
   "metadata": {},
   "outputs": [],
   "source": [
    "# model.compile(loss=\"binary_crossentropy\", optimizer=\"adam\", metrics=[\"accuracy\"])\n",
    "\n",
    "# fit_model = model.fit(X_train_scaled, y_train, epochs=100)"
   ]
  },
  {
   "cell_type": "code",
   "execution_count": null,
   "id": "fe01f850",
   "metadata": {},
   "outputs": [],
   "source": [
    "model = model.fit(X_train, y_train)"
   ]
  },
  {
   "cell_type": "code",
   "execution_count": null,
   "id": "e6ec7892",
   "metadata": {},
   "outputs": [],
   "source": [
    "predictions = model.predict(X_test)"
   ]
  },
  {
   "cell_type": "code",
   "execution_count": null,
   "id": "af36647e",
   "metadata": {},
   "outputs": [],
   "source": [
    "# predictions_df = y_test\n",
    "# predictions_df['predictions'] = predictions\n",
    "# predictions_df"
   ]
  },
  {
   "cell_type": "code",
   "execution_count": null,
   "id": "6c47a1f3",
   "metadata": {},
   "outputs": [],
   "source": [
    "from tensorflow.keras.metrics import Accuracy\n",
    "accuracy = Accuracy()\n",
    "\n",
    "accuracy.update_state(y_true=y_test, y_pred=predictions)\n",
    "accuracy.result().numpy()"
   ]
  },
  {
   "cell_type": "code",
   "execution_count": null,
   "id": "ec51ff37",
   "metadata": {},
   "outputs": [],
   "source": [
    "X_test"
   ]
  },
  {
   "cell_type": "code",
   "execution_count": null,
   "id": "8a14e81d",
   "metadata": {},
   "outputs": [],
   "source": [
    "davis = [[10, 38.54, -121.75]]\n",
    "model.predict(davis)"
   ]
  },
  {
   "cell_type": "code",
   "execution_count": null,
   "id": "be8a34fe",
   "metadata": {},
   "outputs": [],
   "source": [
    "predictions"
   ]
  },
  {
   "cell_type": "code",
   "execution_count": null,
   "id": "29b3365e",
   "metadata": {},
   "outputs": [],
   "source": [
    "y_test"
   ]
  },
  {
   "cell_type": "code",
   "execution_count": null,
   "id": "f6451c6f",
   "metadata": {},
   "outputs": [],
   "source": [
    "conc_0 = 0\n",
    "conc_1 = 0\n",
    "conc_2_plus = 0\n",
    "'''\n",
    "conc_2 = 0\n",
    "conc_3 = 0\n",
    "conc_4 = 0\n",
    "conc_5 = 0\n",
    "conc_6 = 0\n",
    "conc_7 = 0\n",
    "'''\n",
    "for i in range(len(y)):\n",
    "    if y[i] < 1:\n",
    "        conc_0 += 1\n",
    "    elif y[i] < 10:\n",
    "        conc_1 += 1\n",
    "    else:\n",
    "        conc_2_plus += 1\n",
    "print(f'{conc_0/(len(y))}\\t{conc_1/(len(y))}\\t{conc_2_plus}')"
   ]
  },
  {
   "cell_type": "code",
   "execution_count": null,
   "id": "50b5a6ad",
   "metadata": {},
   "outputs": [],
   "source": []
  }
 ],
 "metadata": {
  "kernelspec": {
   "display_name": "PythonData",
   "language": "python",
   "name": "pythondata"
  },
  "language_info": {
   "codemirror_mode": {
    "name": "ipython",
    "version": 3
   },
   "file_extension": ".py",
   "mimetype": "text/x-python",
   "name": "python",
   "nbconvert_exporter": "python",
   "pygments_lexer": "ipython3",
   "version": "3.9.13"
  }
 },
 "nbformat": 4,
 "nbformat_minor": 5
}
