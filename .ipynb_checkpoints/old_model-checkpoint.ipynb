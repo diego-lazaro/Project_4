{
 "cells": [
  {
   "cell_type": "code",
   "execution_count": 1,
   "id": "ce8955a4",
   "metadata": {},
   "outputs": [
    {
     "ename": "ModuleNotFoundError",
     "evalue": "No module named 'tensorflow'",
     "output_type": "error",
     "traceback": [
      "\u001b[0;31m---------------------------------------------------------------------------\u001b[0m",
      "\u001b[0;31mModuleNotFoundError\u001b[0m                       Traceback (most recent call last)",
      "\u001b[0;32m/var/folders/nz/2tqztqf166vg9w8bg651bkh80000gn/T/ipykernel_86945/1191950648.py\u001b[0m in \u001b[0;36m<module>\u001b[0;34m\u001b[0m\n\u001b[1;32m     10\u001b[0m \u001b[0;32mfrom\u001b[0m \u001b[0msklearn\u001b[0m\u001b[0;34m.\u001b[0m\u001b[0mlinear_model\u001b[0m \u001b[0;32mimport\u001b[0m \u001b[0mLinearRegression\u001b[0m\u001b[0;34m\u001b[0m\u001b[0;34m\u001b[0m\u001b[0m\n\u001b[1;32m     11\u001b[0m \u001b[0;32mfrom\u001b[0m \u001b[0msklearn\u001b[0m\u001b[0;34m.\u001b[0m\u001b[0mmetrics\u001b[0m \u001b[0;32mimport\u001b[0m \u001b[0mconfusion_matrix\u001b[0m\u001b[0;34m,\u001b[0m \u001b[0maccuracy_score\u001b[0m\u001b[0;34m,\u001b[0m \u001b[0mclassification_report\u001b[0m\u001b[0;34m\u001b[0m\u001b[0;34m\u001b[0m\u001b[0m\n\u001b[0;32m---> 12\u001b[0;31m \u001b[0;32mimport\u001b[0m \u001b[0mtensorflow\u001b[0m \u001b[0;32mas\u001b[0m \u001b[0mtf\u001b[0m\u001b[0;34m\u001b[0m\u001b[0;34m\u001b[0m\u001b[0m\n\u001b[0m",
      "\u001b[0;31mModuleNotFoundError\u001b[0m: No module named 'tensorflow'"
     ]
    }
   ],
   "source": [
    "import pandas as pd\n",
    "import numpy as np\n",
    "import matplotlib as plt\n",
    "from pathlib import Path\n",
    "import sklearn as skl\n",
    "from sklearn.cluster import KMeans\n",
    "from sklearn.decomposition import PCA\n",
    "from sklearn.preprocessing import StandardScaler\n",
    "from sklearn.model_selection import train_test_split\n",
    "from sklearn.linear_model import LinearRegression\n",
    "from sklearn.metrics import confusion_matrix, accuracy_score, classification_report\n",
    "import tensorflow as tf"
   ]
  },
  {
   "cell_type": "code",
   "execution_count": null,
   "id": "76552a25",
   "metadata": {},
   "outputs": [],
   "source": [
    "df = pd.read_csv('Resources/features_and_target.csv')\n",
    "df.info()"
   ]
  },
  {
   "cell_type": "code",
   "execution_count": null,
   "id": "99453471",
   "metadata": {},
   "outputs": [],
   "source": [
    "X = df[['WELL_DEPTH', 'LAT', 'LON']]\n",
    "X = X.to_numpy()\n",
    "y = df[['AS_CONC']]\n",
    "y = np.ravel(y)"
   ]
  },
  {
   "cell_type": "code",
   "execution_count": null,
   "id": "18c2a10e",
   "metadata": {},
   "outputs": [],
   "source": [
    "df.plot.scatter(x=\"LON\", y=\"LAT\", c=\"AS_CONC\", colormap=\"winter\")"
   ]
  },
  {
   "cell_type": "code",
   "execution_count": null,
   "id": "e7d77835",
   "metadata": {},
   "outputs": [],
   "source": [
    "X"
   ]
  },
  {
   "cell_type": "code",
   "execution_count": null,
   "id": "d79be5b1",
   "metadata": {},
   "outputs": [],
   "source": [
    "X_train, X_test, y_train, y_test = train_test_split(X, y, random_state=40)"
   ]
  },
  {
   "cell_type": "code",
   "execution_count": null,
   "id": "c5cf25f3",
   "metadata": {},
   "outputs": [],
   "source": [
    "# Create scaler instance\n",
    "X_scaler = skl.preprocessing.StandardScaler()\n",
    "\n",
    "# Fit the scaler\n",
    "X_scaler.fit(X_train)\n",
    "\n",
    "# Scale the data\n",
    "X_train_scaled = X_scaler.transform(X_train)\n",
    "X_test_scaled = X_scaler.transform(X_test)"
   ]
  },
  {
   "cell_type": "code",
   "execution_count": null,
   "id": "3b9cc6c1",
   "metadata": {},
   "outputs": [],
   "source": [
    "from sklearn.ensemble import BaggingRegressor\n",
    "model = BaggingRegressor(n_estimators=1)"
   ]
  },
  {
   "cell_type": "code",
   "execution_count": null,
   "id": "c94b4147",
   "metadata": {},
   "outputs": [],
   "source": [
    "# model = tf.keras.models.Sequential()"
   ]
  },
  {
   "cell_type": "code",
   "execution_count": null,
   "id": "47aa10a1",
   "metadata": {},
   "outputs": [],
   "source": [
    "# model.add(tf.keras.layers.Dense(units=12, activation=\"relu\", input_dim=2))\n",
    "# model.add(tf.keras.layers.Dense(units=12, activation=\"relu\", input_dim=2))\n",
    "# model.add(tf.keras.layers.Dense(units=12, activation=\"relu\", input_dim=2))\n",
    "# model.add(tf.keras.layers.Dense(units=12, activation=\"relu\", input_dim=2))\n",
    "# model.add(tf.keras.layers.Dense(units=12, activation=\"relu\", input_dim=2))"
   ]
  },
  {
   "cell_type": "code",
   "execution_count": null,
   "id": "b15ae11c",
   "metadata": {},
   "outputs": [],
   "source": [
    "# model.add(tf.keras.layers.Dense(units=1, activation=\"sigmoid\"))"
   ]
  },
  {
   "cell_type": "code",
   "execution_count": null,
   "id": "cc58448d",
   "metadata": {},
   "outputs": [],
   "source": [
    "# model.summary()"
   ]
  },
  {
   "cell_type": "code",
   "execution_count": null,
   "id": "0791ec58",
   "metadata": {},
   "outputs": [],
   "source": [
    "# model.compile(loss=\"binary_crossentropy\", optimizer=\"adam\", metrics=[\"accuracy\"])\n",
    "\n",
    "# fit_model = model.fit(X_train_scaled, y_train, epochs=100)"
   ]
  },
  {
   "cell_type": "code",
   "execution_count": null,
   "id": "43491231",
   "metadata": {},
   "outputs": [],
   "source": [
    "model = model.fit(X_train, y_train)"
   ]
  },
  {
   "cell_type": "code",
   "execution_count": null,
   "id": "8a21bcc2",
   "metadata": {},
   "outputs": [],
   "source": [
    "predictions = model.predict(X_test)"
   ]
  },
  {
   "cell_type": "code",
   "execution_count": null,
   "id": "903d4fe7",
   "metadata": {},
   "outputs": [],
   "source": [
    "# predictions_df = y_test\n",
    "# predictions_df['predictions'] = predictions\n",
    "# predictions_df"
   ]
  },
  {
   "cell_type": "code",
   "execution_count": null,
   "id": "08aa7420",
   "metadata": {},
   "outputs": [],
   "source": [
    "from tensorflow.keras.metrics import Accuracy\n",
    "accuracy = Accuracy()\n",
    "\n",
    "accuracy.update_state(y_true=y_test, y_pred=predictions)\n",
    "accuracy.result().numpy()"
   ]
  },
  {
   "cell_type": "code",
   "execution_count": null,
   "id": "e7e274a2",
   "metadata": {},
   "outputs": [],
   "source": [
    "X_test"
   ]
  },
  {
   "cell_type": "code",
   "execution_count": null,
   "id": "73dcea9d",
   "metadata": {},
   "outputs": [],
   "source": [
    "davis = [[10, 38.54, -121.75]]\n",
    "model.predict(davis)"
   ]
  },
  {
   "cell_type": "code",
   "execution_count": null,
   "id": "78ebd7ae",
   "metadata": {},
   "outputs": [],
   "source": [
    "predictions"
   ]
  },
  {
   "cell_type": "code",
   "execution_count": null,
   "id": "8fae168b",
   "metadata": {},
   "outputs": [],
   "source": [
    "y_test"
   ]
  },
  {
   "cell_type": "code",
   "execution_count": null,
   "id": "236f739f",
   "metadata": {},
   "outputs": [],
   "source": [
    "conc_0 = 0\n",
    "conc_1 = 0\n",
    "conc_2_plus = 0\n",
    "'''\n",
    "conc_2 = 0\n",
    "conc_3 = 0\n",
    "conc_4 = 0\n",
    "conc_5 = 0\n",
    "conc_6 = 0\n",
    "conc_7 = 0\n",
    "'''\n",
    "for i in range(len(y)):\n",
    "    if y[i] < 1:\n",
    "        conc_0 += 1\n",
    "    elif y[i] < 10:\n",
    "        conc_1 += 1\n",
    "    else:\n",
    "        conc_2_plus += 1\n",
    "print(f'{conc_0/(len(y))}\\t{conc_1/(len(y))}\\t{conc_2_plus}')"
   ]
  },
  {
   "cell_type": "code",
   "execution_count": null,
   "id": "8a74bab2",
   "metadata": {},
   "outputs": [],
   "source": []
  }
 ],
 "metadata": {
  "kernelspec": {
   "display_name": "Python 3 (ipykernel)",
   "language": "python",
   "name": "python3"
  },
  "language_info": {
   "codemirror_mode": {
    "name": "ipython",
    "version": 3
   },
   "file_extension": ".py",
   "mimetype": "text/x-python",
   "name": "python",
   "nbconvert_exporter": "python",
   "pygments_lexer": "ipython3",
   "version": "3.7.7"
  }
 },
 "nbformat": 4,
 "nbformat_minor": 5
}
